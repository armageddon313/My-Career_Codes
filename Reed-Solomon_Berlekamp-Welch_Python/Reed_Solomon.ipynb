{
  "nbformat": 4,
  "nbformat_minor": 0,
  "metadata": {
    "colab": {
      "provenance": []
    },
    "kernelspec": {
      "name": "python3",
      "display_name": "Python 3"
    },
    "language_info": {
      "name": "python"
    }
  },
  "cells": [
    {
      "cell_type": "code",
      "source": [
        "!pip install galois"
      ],
      "metadata": {
        "colab": {
          "base_uri": "https://localhost:8080/"
        },
        "id": "cOBWMHqm9RO2",
        "outputId": "a2fb26c2-c2f2-4302-bdde-4144d29194b5"
      },
      "execution_count": 1,
      "outputs": [
        {
          "output_type": "stream",
          "name": "stdout",
          "text": [
            "Collecting galois\n",
            "  Downloading galois-0.3.7-py3-none-any.whl (4.2 MB)\n",
            "\u001b[2K     \u001b[90m━━━━━━━━━━━━━━━━━━━━━━━━━━━━━━━━━━━━━━━━\u001b[0m \u001b[32m4.2/4.2 MB\u001b[0m \u001b[31m9.7 MB/s\u001b[0m eta \u001b[36m0:00:00\u001b[0m\n",
            "\u001b[?25hRequirement already satisfied: numpy<1.26,>=1.21.0 in /usr/local/lib/python3.10/dist-packages (from galois) (1.23.5)\n",
            "Requirement already satisfied: numba<0.59,>=0.55 in /usr/local/lib/python3.10/dist-packages (from galois) (0.58.1)\n",
            "Requirement already satisfied: typing-extensions>=4.0.0 in /usr/local/lib/python3.10/dist-packages (from galois) (4.5.0)\n",
            "Requirement already satisfied: llvmlite<0.42,>=0.41.0dev0 in /usr/local/lib/python3.10/dist-packages (from numba<0.59,>=0.55->galois) (0.41.1)\n",
            "Installing collected packages: galois\n",
            "Successfully installed galois-0.3.7\n"
          ]
        }
      ]
    },
    {
      "cell_type": "markdown",
      "source": [
        "## galois library documentation :\n",
        "\n",
        "https://pypi.org/project/galois/\n",
        "\n",
        "https://mhostetter.github.io/galois/latest/basic-usage/array-arithmetic/"
      ],
      "metadata": {
        "id": "a3Z9mSZEOK2y"
      }
    },
    {
      "cell_type": "code",
      "source": [
        "import math\n",
        "import numpy as np\n",
        "import random\n",
        "import galois"
      ],
      "metadata": {
        "id": "xIkalj80508O"
      },
      "execution_count": 2,
      "outputs": []
    },
    {
      "cell_type": "markdown",
      "source": [
        "# **Reed-Solomon Codes**\n"
      ],
      "metadata": {
        "id": "ZKVSk0PDVTOU"
      }
    },
    {
      "cell_type": "markdown",
      "source": [
        "## Reed-Solomon Encoder\n"
      ],
      "metadata": {
        "id": "DbtbvyoKVhNa"
      }
    },
    {
      "cell_type": "code",
      "source": [
        "# q must be prime and bigger than n\n",
        "# n >>> code length\n",
        "# q >>> field of elements\n",
        "# k >>> length of input message\n",
        "# e >>> maximum length of error possible\n",
        "\n",
        "q = 31\n",
        "n = 31\n",
        "k = 14\n",
        "\n",
        "const_needed = 1\n",
        "\n",
        "e = math.floor((n-k)/2)\n",
        "\n",
        "print(const_needed)\n",
        "print(e)"
      ],
      "metadata": {
        "colab": {
          "base_uri": "https://localhost:8080/"
        },
        "id": "HLMwYdNOVob6",
        "outputId": "d3b65c6b-d799-4cc4-f5f2-b205e805658e"
      },
      "execution_count": 186,
      "outputs": [
        {
          "output_type": "stream",
          "name": "stdout",
          "text": [
            "1\n",
            "8\n"
          ]
        }
      ]
    },
    {
      "cell_type": "markdown",
      "source": [
        "### Defining field"
      ],
      "metadata": {
        "id": "WALYVekSRaRU"
      }
    },
    {
      "cell_type": "code",
      "source": [
        "GF_q = galois.GF(q)\n",
        "\n",
        "y = np.array([5]); y\n",
        "\n",
        "print(y.view(GF_q))"
      ],
      "metadata": {
        "colab": {
          "base_uri": "https://localhost:8080/"
        },
        "id": "WUEahHxYQzS8",
        "outputId": "2e64ed56-2de4-43f8-f83a-c6c40dc2a7b2"
      },
      "execution_count": 154,
      "outputs": [
        {
          "output_type": "stream",
          "name": "stdout",
          "text": [
            "[5]\n"
          ]
        }
      ]
    },
    {
      "cell_type": "markdown",
      "source": [
        "### creating random input message"
      ],
      "metadata": {
        "id": "lQ7sPAhzbD1X"
      }
    },
    {
      "cell_type": "code",
      "source": [
        "# Assigning seed to make reproducible results\n",
        "np.random.seed(1)\n",
        "\n",
        "# creating random input message\n",
        "message1 =  np.random.randint(0,q,k)\n",
        "\n",
        "message2 = message1.view(GF_q)\n",
        "\n",
        "message = np.flip(message2)\n",
        "\n",
        "print('\\n\\nGenerated Random input message in GF(q): \\n')\n",
        "print(message2)\n",
        "\n",
        "# message polynomial\n",
        "Message_poly = galois.Poly(message, GF_q)\n",
        "\n",
        "\n",
        "print('\\n\\ninput message polynomial: \\n')\n",
        "print(Message_poly)"
      ],
      "metadata": {
        "colab": {
          "base_uri": "https://localhost:8080/"
        },
        "id": "liB8q5WEJkI5",
        "outputId": "3e74ca56-a01c-4238-cce0-bff8101119c3"
      },
      "execution_count": 185,
      "outputs": [
        {
          "output_type": "stream",
          "name": "stdout",
          "text": [
            "\n",
            "\n",
            "Generated Random input message in GF(q): \n",
            "\n",
            "[ 5 11 12  8  9 11  5 15  0 16  1 12  7 13]\n",
            "\n",
            "\n",
            "input message polynomial: \n",
            "\n",
            "13x^13 + 7x^12 + 12x^11 + x^10 + 16x^9 + 15x^7 + 5x^6 + 11x^5 + 9x^4 + 8x^3 + 12x^2 + 11x + 5\n"
          ]
        }
      ]
    },
    {
      "cell_type": "markdown",
      "source": [
        "### Choosing n distinct Alpha"
      ],
      "metadata": {
        "id": "RJP9TJ_RSMrE"
      }
    },
    {
      "cell_type": "code",
      "source": [
        "random.seed(42)\n",
        "\n",
        "alpha1 = random.sample(range(0,q), n)\n",
        "\n",
        "alpha2 = np.array(alpha1)\n",
        "\n",
        "alpha = alpha2.view(GF_q); alpha2\n",
        "\n",
        "print('\\n\\n printing Alphas: \\n')\n",
        "print((alpha))\n"
      ],
      "metadata": {
        "colab": {
          "base_uri": "https://localhost:8080/"
        },
        "id": "MJF29o6wSVuj",
        "outputId": "12067eae-c498-47f6-c1e4-9d1b88b84cf7"
      },
      "execution_count": 176,
      "outputs": [
        {
          "output_type": "stream",
          "name": "stdout",
          "text": [
            "\n",
            "\n",
            " printing Alphas: \n",
            "\n",
            "[20  3  0 23  8  7 25  4 29 21 17  2 18 13  1 28 16 22 30 26  9 15 11 12\n",
            "  5  6 27 24 10 14 19]\n"
          ]
        }
      ]
    },
    {
      "cell_type": "markdown",
      "source": [
        "## Encoding input message"
      ],
      "metadata": {
        "id": "TWhs0SLkccr2"
      }
    },
    {
      "cell_type": "code",
      "source": [
        "Code = Message_poly(alpha)\n",
        "\n",
        "print('\\n\\n encoded message (X): \\n')\n",
        "print(Code)"
      ],
      "metadata": {
        "colab": {
          "base_uri": "https://localhost:8080/"
        },
        "id": "fUcYPIz2cWJ-",
        "outputId": "8102b8de-1bc7-4f1a-b239-edb467727500"
      },
      "execution_count": 177,
      "outputs": [
        {
          "output_type": "stream",
          "name": "stdout",
          "text": [
            "\n",
            "\n",
            " encoded message (X): \n",
            "\n",
            "[ 8 28  5 22  1 13 15 16  5 29  8  2 29  4  1 25  3  5 15  7  9 13 25  3\n",
            " 14 19 13  3  1 30  1]\n"
          ]
        }
      ]
    },
    {
      "cell_type": "markdown",
      "source": [
        "# **Adding Error**"
      ],
      "metadata": {
        "id": "l7HgGWm3ve7z"
      }
    },
    {
      "cell_type": "code",
      "source": [
        "Code = Message_poly(alpha)\n",
        "\n",
        "W = Code\n",
        "\n",
        "\n",
        "print('\\n\\n encoded message (X): \\n')\n",
        "print(W)\n",
        "\n",
        "random.seed(46)\n",
        "\n",
        "\n",
        "########## Specify number of errors (err) ###########\n",
        "\n",
        "err = 4\n",
        "\n",
        "########## Specify number of errors (err) ###########\n",
        "\n",
        "index = random.sample(range(0,n), err)\n",
        "\n",
        "add_err1 = random.sample(range(1,q), err)\n",
        "\n",
        "add_err = np.array(add_err1)\n",
        "\n",
        "if err :\n",
        "\n",
        "  add_err = add_err.view(GF_q)\n",
        "\n",
        "  for i in range(0,err):\n",
        "    W[index[i]] = add_err[i] + W[index[i]]\n",
        "\n",
        "\n",
        "print('\\n\\n index of message to add error with: \\n')\n",
        "print(index)\n",
        "\n",
        "print('\\n\\n value of error to be added: \\n')\n",
        "print(add_err)\n",
        "\n",
        "print('\\n\\n Received message (X + E): \\n')\n",
        "print(W)\n",
        "\n"
      ],
      "metadata": {
        "colab": {
          "base_uri": "https://localhost:8080/"
        },
        "id": "F2V-JE40O_yL",
        "outputId": "8c9c4011-016f-438b-b54c-8373184ef42b"
      },
      "execution_count": 178,
      "outputs": [
        {
          "output_type": "stream",
          "name": "stdout",
          "text": [
            "\n",
            "\n",
            " encoded message (X): \n",
            "\n",
            "[ 8 28  5 22  1 13 15 16  5 29  8  2 29  4  1 25  3  5 15  7  9 13 25  3\n",
            " 14 19 13  3  1 30  1]\n",
            "\n",
            "\n",
            " index of message to add error with: \n",
            "\n",
            "[28, 2, 12, 1]\n",
            "\n",
            "\n",
            " value of error to be added: \n",
            "\n",
            "[19 28 29  8]\n",
            "\n",
            "\n",
            " Received message (X + E): \n",
            "\n",
            "[ 8  5  2 22  1 13 15 16  5 29  8  2 27  4  1 25  3  5 15  7  9 13 25  3\n",
            " 14 19 13  3 20 30  1]\n"
          ]
        }
      ]
    },
    {
      "cell_type": "markdown",
      "source": [
        "# **Reed-Solomon Decoder**"
      ],
      "metadata": {
        "id": "B-5lnOX9viyj"
      }
    },
    {
      "cell_type": "markdown",
      "source": [
        "## System Function Generator\n",
        "### Q(alpha) = Wi*E(alpha)"
      ],
      "metadata": {
        "id": "nAUjfEm9ac3x"
      }
    },
    {
      "cell_type": "code",
      "source": [
        "def sys_mat(W,alpha,er,const_needed,n,k):\n",
        "  Q_matrix = np.full((n,k+er),0)\n",
        "  E_matrix = np.full((n,er+1),0)\n",
        "  for i in range(0,n):\n",
        "    for j in range(0,k+er):\n",
        "      Q_matrix[i,j] = alpha[i] ** j\n",
        "\n",
        "    for j in range(0,1+er):\n",
        "      E_matrix[i,j] = -(W[i]*(alpha[i] ** j))\n",
        "      if (j == er) & (const_needed == 1):\n",
        "        E_matrix[i,j] = (W[i]*(alpha[i] ** j))\n",
        "  A = np.concatenate((Q_matrix,E_matrix), axis = 1)\n",
        "  A = A.view(GF_q)\n",
        "  return A"
      ],
      "metadata": {
        "id": "nOwYK_aFaktK"
      },
      "execution_count": 179,
      "outputs": []
    },
    {
      "cell_type": "markdown",
      "source": [
        "### Finding an E degree, for which the system is solvable"
      ],
      "metadata": {
        "id": "qsMtUiRl0b8v"
      }
    },
    {
      "cell_type": "code",
      "source": [
        "solvable = []\n",
        "\n",
        "for i in range(0,e+1):\n",
        "  H = sys_mat(W,alpha,i,const_needed,n,k)\n",
        "  Rank = np.linalg.matrix_rank(H)\n",
        "  sh = H.shape\n",
        "  Col_num = sh[-1]\n",
        "  print(Rank , Rank - (Col_num - const_needed))\n",
        "  if Rank - (Col_num - const_needed) == 0:\n",
        "    solvable.append(i)\n",
        "\n",
        "print (solvable)\n"
      ],
      "metadata": {
        "id": "dGdXJs9gNou_",
        "colab": {
          "base_uri": "https://localhost:8080/"
        },
        "outputId": "0b20a934-8aae-45a4-c469-09b7b440e0b8"
      },
      "execution_count": 180,
      "outputs": [
        {
          "output_type": "stream",
          "name": "stdout",
          "text": [
            "15 1\n",
            "17 1\n",
            "19 1\n",
            "21 1\n",
            "22 0\n",
            "23 -1\n",
            "24 -2\n",
            "25 -3\n",
            "26 -4\n",
            "[4]\n"
          ]
        }
      ]
    },
    {
      "cell_type": "markdown",
      "source": [
        "## Solving system of equations"
      ],
      "metadata": {
        "id": "pvIJtGFqPtWk"
      }
    },
    {
      "cell_type": "code",
      "source": [
        "A1 = sys_mat(W,alpha,solvable[0],const_needed,n,k)\n",
        "\n",
        "print('\\n\\n joint raw system matrix ([A b]) as in AX=b: \\n')\n",
        "print (A1)\n",
        "\n",
        "space = A1.row_space()\n",
        "\n",
        "print('\\n\\n joint system matrix ([A b]) as in AX=b after gaussian elimination: \\n')\n",
        "print(space)\n",
        "\n",
        "b = space[:,-1]\n",
        "b = b.view(GF_q)\n",
        "\n",
        "print('\\n\\n b vector as in Ax=b: \\n')\n",
        "print(b)\n",
        "\n",
        "A1_F = np.delete(space ,-1 ,axis = 1)\n",
        "\n",
        "\n",
        "print('\\n\\n Final system matrix after gaussian elimination: \\n')\n",
        "print(A1_F)\n",
        "\n",
        "\n",
        "# sloving the system of equations in galois field q\n",
        "# https://mhostetter.github.io/galois/latest/basic-usage/array-arithmetic/#linear-algebra\n",
        "\n",
        "Q_E = np.linalg.solve(A1_F, b)\n",
        "\n",
        "\n",
        "\n",
        "print('\\n\\n printing joint Q and E coefficients: \\n')\n",
        "\n",
        "print(Q_E)"
      ],
      "metadata": {
        "colab": {
          "base_uri": "https://localhost:8080/"
        },
        "id": "heIpECDFPwVj",
        "outputId": "e310faef-3fc4-4955-cb4a-20600229d18c"
      },
      "execution_count": 181,
      "outputs": [
        {
          "output_type": "stream",
          "name": "stdout",
          "text": [
            "\n",
            "\n",
            " joint raw system matrix ([A b]) as in AX=b: \n",
            "\n",
            "[[ 1 20 28  2  9 25  4 18 19  8  5  7 16 10 14  1 20 28 23 26 24 15 10]\n",
            " [ 1  3  9 27 19 26 16 17 20 29 25 13  8 24 10 30 28 22 26 16 17 20  2]\n",
            " [ 1  0  0  0  0  0  0  0  0  0  0  0  0  0  0  0  0  0 29  0  0  0  0]\n",
            " [ 1 23  2 15  4 30  8 29 16 27  1 23  2 15  4 30  8 29  9 21 18 11 26]\n",
            " [ 1  8  2 16  4  1  8  2 16  4  1  8  2 16  4  1  8  2 30 23 29 15  4]\n",
            " [ 1  7 18  2 14  5  4 28 10  8 25 20 16 19  9  1  7 18 18  2 14  5 27]\n",
            " [ 1 25  5  1 25  5  1 25  5  1 25  5  1 25  5  1 25  5 16 28 18 16  3]\n",
            " [ 1  4 16  2  8  1  4 16  2  8  1  4 16  2  8  1  4 16 15 29 23 30  4]\n",
            " [ 1 29  4 23 16 30  2 27  8 15  1 29  4 23 16 30  2 27 26 10 11  9 18]\n",
            " [ 1 21  7 23 18  6  2 11 14 15  5 12  4 22 28 30 10 24  2 11 14 15 26]\n",
            " [ 1 17 10 15  7 26  8 12 18 27 25 22  2  3 20 30 14 21 23 19 13  4 25]\n",
            " [ 1  2  4  8 16  1  2  4  8 16  1  2  4  8 16  1  2  4 29 27 23 15  1]\n",
            " [ 1 18 14  4 10 25 16  9  7  2  5 28  8 20 19  1 18 14  4 10 25 16 22]\n",
            " [ 1 13 14 27 10  6 16 22  7 29  5  3  8 11 19 30 18 17 27 10  6 16  9]\n",
            " [ 1  1  1  1  1  1  1  1  1  1  1  1  1  1  1  1  1  1 30 30 30 30  1]\n",
            " [ 1 28  9  4 19  5 16 14 20  2 25 18  8  7 10  1 28  9  6 13 23 24 10]\n",
            " [ 1 16  8  4  2  1 16  8  4  2  1 16  8  4  2  1 16  8 28 14  7 19  6]\n",
            " [ 1 22 19 15 20  6  8 21 28 27  5 17  2 13  7 30  9 12 26 14 29 18  7]\n",
            " [ 1 30  1 30  1 30  1 30  1 30  1 30  1 30  1 30  1 30 16 15 16 15 15]\n",
            " [ 1 26 25 30  5  6  1 26 25 30  5  6  1 26 25 30  5  6 24  4 11  7  4]\n",
            " [ 1  9 19 16 20 25  8 10 28  4  5 14  2 18  7  1  9 19 22 12 15 11 25]\n",
            " [ 1 15  8 27  2 30 16 23  4 29  1 15  8 27  2 30 16 23 18 22 20 21 26]\n",
            " [ 1 11 28 29  9  6  4 13 19 23  5 24 16 21 14 30 20  3  6  4 13 19  8]\n",
            " [ 1 12 20 23 28 26  2 24  9 15 25 21  4 17 18 30 19 11 28 26  2 24 22]\n",
            " [ 1  5 25  1  5 25  1  5 25  1  5 25  1  5 25  1  5 25 17 23 22 17  8]\n",
            " [ 1  6  5 30 25 26  1  6  5 30 25 26  1  6  5 30 25 26 12 10 29 19 10]\n",
            " [ 1 27 16 29  8 30  4 15  2 23  1 27 16 29  8 30  4 15 18 21  9 26 11]\n",
            " [ 1 24 18 29 14 26  4  3 10 23 25 11 16 12  9 30  7 13 28 21  8  6 11]\n",
            " [ 1 10  7  8 18 25  2 20 14 16  5 19  4  9 28  1 10  7 11 17 15 26 19]\n",
            " [ 1 14 10 16  7  5  8 19 18  4 25  9  2 28 20  1 14 10  1 14 10 16 24]\n",
            " [ 1 19 20  8 28  5  2  7  9 16 25 10  4 14 18  1 19 20 30 12 11 23 28]]\n",
            "\n",
            "\n",
            " joint system matrix ([A b]) as in AX=b after gaussian elimination: \n",
            "\n",
            "[[ 1  0  0  0  0  0  0  0  0  0  0  0  0  0  0  0  0  0  0  0  0  0  0]\n",
            " [ 0  1  0  0  0  0  0  0  0  0  0  0  0  0  0  0  0  0  0  0  0  0 28]\n",
            " [ 0  0  1  0  0  0  0  0  0  0  0  0  0  0  0  0  0  0  0  0  0  0 30]\n",
            " [ 0  0  0  1  0  0  0  0  0  0  0  0  0  0  0  0  0  0  0  0  0  0 20]\n",
            " [ 0  0  0  0  1  0  0  0  0  0  0  0  0  0  0  0  0  0  0  0  0  0  0]\n",
            " [ 0  0  0  0  0  1  0  0  0  0  0  0  0  0  0  0  0  0  0  0  0  0 22]\n",
            " [ 0  0  0  0  0  0  1  0  0  0  0  0  0  0  0  0  0  0  0  0  0  0 13]\n",
            " [ 0  0  0  0  0  0  0  1  0  0  0  0  0  0  0  0  0  0  0  0  0  0 26]\n",
            " [ 0  0  0  0  0  0  0  0  1  0  0  0  0  0  0  0  0  0  0  0  0  0 18]\n",
            " [ 0  0  0  0  0  0  0  0  0  1  0  0  0  0  0  0  0  0  0  0  0  0  3]\n",
            " [ 0  0  0  0  0  0  0  0  0  0  1  0  0  0  0  0  0  0  0  0  0  0 14]\n",
            " [ 0  0  0  0  0  0  0  0  0  0  0  1  0  0  0  0  0  0  0  0  0  0 10]\n",
            " [ 0  0  0  0  0  0  0  0  0  0  0  0  1  0  0  0  0  0  0  0  0  0 15]\n",
            " [ 0  0  0  0  0  0  0  0  0  0  0  0  0  1  0  0  0  0  0  0  0  0 24]\n",
            " [ 0  0  0  0  0  0  0  0  0  0  0  0  0  0  1  0  0  0  0  0  0  0  6]\n",
            " [ 0  0  0  0  0  0  0  0  0  0  0  0  0  0  0  1  0  0  0  0  0  0  3]\n",
            " [ 0  0  0  0  0  0  0  0  0  0  0  0  0  0  0  0  1  0  0  0  0  0  7]\n",
            " [ 0  0  0  0  0  0  0  0  0  0  0  0  0  0  0  0  0  1  0  0  0  0 13]\n",
            " [ 0  0  0  0  0  0  0  0  0  0  0  0  0  0  0  0  0  0  1  0  0  0  0]\n",
            " [ 0  0  0  0  0  0  0  0  0  0  0  0  0  0  0  0  0  0  0  1  0  0 18]\n",
            " [ 0  0  0  0  0  0  0  0  0  0  0  0  0  0  0  0  0  0  0  0  1  0 16]\n",
            " [ 0  0  0  0  0  0  0  0  0  0  0  0  0  0  0  0  0  0  0  0  0  1  0]]\n",
            "\n",
            "\n",
            " b vector as in Ax=b: \n",
            "\n",
            "[ 0 28 30 20  0 22 13 26 18  3 14 10 15 24  6  3  7 13  0 18 16  0]\n",
            "\n",
            "\n",
            " Final system matrix after gaussian elimination: \n",
            "\n",
            "[[1 0 0 0 0 0 0 0 0 0 0 0 0 0 0 0 0 0 0 0 0 0]\n",
            " [0 1 0 0 0 0 0 0 0 0 0 0 0 0 0 0 0 0 0 0 0 0]\n",
            " [0 0 1 0 0 0 0 0 0 0 0 0 0 0 0 0 0 0 0 0 0 0]\n",
            " [0 0 0 1 0 0 0 0 0 0 0 0 0 0 0 0 0 0 0 0 0 0]\n",
            " [0 0 0 0 1 0 0 0 0 0 0 0 0 0 0 0 0 0 0 0 0 0]\n",
            " [0 0 0 0 0 1 0 0 0 0 0 0 0 0 0 0 0 0 0 0 0 0]\n",
            " [0 0 0 0 0 0 1 0 0 0 0 0 0 0 0 0 0 0 0 0 0 0]\n",
            " [0 0 0 0 0 0 0 1 0 0 0 0 0 0 0 0 0 0 0 0 0 0]\n",
            " [0 0 0 0 0 0 0 0 1 0 0 0 0 0 0 0 0 0 0 0 0 0]\n",
            " [0 0 0 0 0 0 0 0 0 1 0 0 0 0 0 0 0 0 0 0 0 0]\n",
            " [0 0 0 0 0 0 0 0 0 0 1 0 0 0 0 0 0 0 0 0 0 0]\n",
            " [0 0 0 0 0 0 0 0 0 0 0 1 0 0 0 0 0 0 0 0 0 0]\n",
            " [0 0 0 0 0 0 0 0 0 0 0 0 1 0 0 0 0 0 0 0 0 0]\n",
            " [0 0 0 0 0 0 0 0 0 0 0 0 0 1 0 0 0 0 0 0 0 0]\n",
            " [0 0 0 0 0 0 0 0 0 0 0 0 0 0 1 0 0 0 0 0 0 0]\n",
            " [0 0 0 0 0 0 0 0 0 0 0 0 0 0 0 1 0 0 0 0 0 0]\n",
            " [0 0 0 0 0 0 0 0 0 0 0 0 0 0 0 0 1 0 0 0 0 0]\n",
            " [0 0 0 0 0 0 0 0 0 0 0 0 0 0 0 0 0 1 0 0 0 0]\n",
            " [0 0 0 0 0 0 0 0 0 0 0 0 0 0 0 0 0 0 1 0 0 0]\n",
            " [0 0 0 0 0 0 0 0 0 0 0 0 0 0 0 0 0 0 0 1 0 0]\n",
            " [0 0 0 0 0 0 0 0 0 0 0 0 0 0 0 0 0 0 0 0 1 0]\n",
            " [0 0 0 0 0 0 0 0 0 0 0 0 0 0 0 0 0 0 0 0 0 1]]\n",
            "\n",
            "\n",
            " printing joint Q and E coefficients: \n",
            "\n",
            "[ 0 28 30 20  0 22 13 26 18  3 14 10 15 24  6  3  7 13  0 18 16  0]\n"
          ]
        }
      ]
    },
    {
      "cell_type": "markdown",
      "source": [
        "### Finding E and Q"
      ],
      "metadata": {
        "id": "6wcQ1WGrgHHi"
      }
    },
    {
      "cell_type": "code",
      "source": [
        "temp = Q_E.tolist()\n",
        "\n",
        "E_coefs = [1]\n",
        "\n",
        "for i in range(0,solvable[0]):\n",
        "  E_coefs.append(temp[-1])\n",
        "  temp.pop()\n",
        "\n",
        "temp = np.array(temp)\n",
        "\n",
        "E_coefs = np.array(E_coefs)\n",
        "E_coefs = E_coefs.view(GF_q)\n",
        "\n",
        "\n",
        "print(\"\\n\\ncoefficients of E(x) polynomial : \\n\")\n",
        "print(E_coefs)\n",
        "\n",
        "Q_coefs = temp\n",
        "\n",
        "Q_coefs = np.array(Q_coefs)\n",
        "Q_coefs = np.flip(Q_coefs)\n",
        "Q_coefs = Q_coefs.view(GF_q)\n",
        "\n",
        "\n",
        "print(\"\\n\\ncoefficients of Q(x) polynomial : \\n\")\n",
        "print(Q_coefs)"
      ],
      "metadata": {
        "colab": {
          "base_uri": "https://localhost:8080/"
        },
        "id": "SqTM5n1KgLZk",
        "outputId": "28d6fdbd-f3c4-481f-fb89-a9144b0d1617"
      },
      "execution_count": 182,
      "outputs": [
        {
          "output_type": "stream",
          "name": "stdout",
          "text": [
            "\n",
            "\n",
            "coefficients of E(x) polynomial : \n",
            "\n",
            "[ 1  0 16 18  0]\n",
            "\n",
            "\n",
            "coefficients of Q(x) polynomial : \n",
            "\n",
            "[13  7  3  6 24 15 10 14  3 18 26 13 22  0 20 30 28  0]\n"
          ]
        }
      ]
    },
    {
      "cell_type": "markdown",
      "source": [
        "## Dividing Q by E and finding P(x)"
      ],
      "metadata": {
        "id": "Cke4FhMVjHUL"
      }
    },
    {
      "cell_type": "code",
      "source": [
        "E_poly = galois.Poly(E_coefs , field = GF_q)\n",
        "\n",
        "Q_poly = galois.Poly(Q_coefs , field = GF_q)\n",
        "\n",
        "P_poly = Q_poly // E_poly\n",
        "\n",
        "\n",
        "print(\"message polynomial : \\n\")\n",
        "print (P_poly)\n",
        "\n",
        "Decoded_message = P_poly.coeffs\n",
        "\n",
        "Decoded_message = np.flip(Decoded_message)\n",
        "\n",
        "print(\"\\n\\ninput message was: \\n\")\n",
        "print (Decoded_message)"
      ],
      "metadata": {
        "colab": {
          "base_uri": "https://localhost:8080/"
        },
        "id": "Pb6ukv0OgovT",
        "outputId": "5c0f0130-2fe0-469b-ffc6-f8e3729e7d04"
      },
      "execution_count": 183,
      "outputs": [
        {
          "output_type": "stream",
          "name": "stdout",
          "text": [
            "message polynomial : \n",
            "\n",
            "13x^13 + 7x^12 + 12x^11 + x^10 + 16x^9 + 15x^7 + 5x^6 + 11x^5 + 9x^4 + 8x^3 + 12x^2 + 11x + 5\n",
            "\n",
            "\n",
            "input message was: \n",
            "\n",
            "[ 5 11 12  8  9 11  5 15  0 16  1 12  7 13]\n"
          ]
        }
      ]
    }
  ]
}
